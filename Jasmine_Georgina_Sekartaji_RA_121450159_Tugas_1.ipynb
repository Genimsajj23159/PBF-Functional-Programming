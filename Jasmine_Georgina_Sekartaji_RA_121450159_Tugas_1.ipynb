{
  "cells": [
    {
      "cell_type": "markdown",
      "metadata": {
        "id": "8nECE-g1xdPn"
      },
      "source": [
        "*Tugas Functonal Programming Meet 1*\n",
        "Nama    : Jasmine Georgina Sekartaji\n",
        "NIM     : 121450159\n",
        "Kelas   : RA\n"
      ]
    },
    {
      "cell_type": "markdown",
      "metadata": {
        "id": "XB0RP3WvxdPp"
      },
      "source": [
        "Nomor 1\n",
        "Jelaskan menggunakan tabel mengenai kelebihan dan kekurangan \n",
        "paradigma procedural dibandingkan dengan object oriented (minimal 3) !"
      ]
    },
    {
      "cell_type": "code",
      "execution_count": 1,
      "metadata": {
        "id": "zL-srMegxdPq"
      },
      "outputs": [],
      "source": [
        "import pandas as pd"
      ]
    },
    {
      "cell_type": "code",
      "execution_count": 2,
      "metadata": {
        "colab": {
          "base_uri": "https://localhost:8080/"
        },
        "id": "ttY3SZWuxdPq",
        "outputId": "72ba79b2-a891-4087-a075-16829078e9e9"
      },
      "outputs": [
        {
          "output_type": "stream",
          "name": "stdout",
          "text": [
            "                                    Kelebihan  \\\n",
            "0                                   Sederhana   \n",
            "1                                     Efisien   \n",
            "2  Efektif dalam mengeksekusi barisan program   \n",
            "\n",
            "                                     Kekurangan  \n",
            "0  Kadang menyulitkan(jauh dari bahasa manusia)  \n",
            "1            Program sulit untuk di maintenance  \n",
            "2      Tidak cocok untuk aplikasi yang kompleks  \n"
          ]
        }
      ],
      "source": [
        "tabela= {'Kelebihan' :['Sederhana', 'Efisien', 'Efektif dalam mengeksekusi barisan program'],\n",
        "        'Kekurangan' : ['Kadang menyulitkan(jauh dari bahasa manusia)', 'Program sulit untuk di maintenance', 'Tidak cocok untuk aplikasi yang kompleks']}\n",
        "df = pd.DataFrame(tabela)\n",
        "print(df)\n",
        "\n"
      ]
    },
    {
      "cell_type": "markdown",
      "metadata": {
        "id": "z2abY8F6xdPr"
      },
      "source": [
        "Nomor 2\n",
        "Jelaskan menggunakan tabel mengenai kelebihan dan kekurangan \n",
        "paradigma object oriented dibandingkan dengan functional (minimal 3) !"
      ]
    },
    {
      "cell_type": "code",
      "execution_count": 3,
      "metadata": {
        "colab": {
          "base_uri": "https://localhost:8080/"
        },
        "id": "48Ry8-IVxdPs",
        "outputId": "aff927cb-96df-44cf-b0d3-a34532b792d5"
      },
      "outputs": [
        {
          "output_type": "stream",
          "name": "stdout",
          "text": [
            "                                        Kelebihan  \\\n",
            "0  Hanya perlu sekali mendefinisikan senuah class   \n",
            "1   Lebih aman karena dapat melakukan abstraction   \n",
            "2                       Mempunyai akses modifiers   \n",
            "\n",
            "                              Kekurangan  \n",
            "0      Butuh dasar pemrograman yang kuat  \n",
            "1  Sulit dipahami oleh programmer pemula  \n",
            "2    Perlu ruang memori yang lebih besar  \n"
          ]
        }
      ],
      "source": [
        "tabelb= {'Kelebihan' :['Hanya perlu sekali mendefinisikan senuah class', 'Lebih aman karena dapat melakukan abstraction', 'Mempunyai akses modifiers'],\n",
        "        'Kekurangan' : ['Butuh dasar pemrograman yang kuat', 'Sulit dipahami oleh programmer pemula', 'Perlu ruang memori yang lebih besar']}\n",
        "df = pd.DataFrame(tabelb)\n",
        "print(df)"
      ]
    },
    {
      "cell_type": "markdown",
      "metadata": {
        "id": "gpTwTGSIxdPs"
      },
      "source": [
        "Nomor 3\n",
        "Jelaskan menggunakan tabel mengenai kelebihan dan kekurangan \n",
        "paradigma procedural dibandingkan dengan functional (minimal 3) !"
      ]
    },
    {
      "cell_type": "code",
      "execution_count": 4,
      "metadata": {
        "colab": {
          "base_uri": "https://localhost:8080/"
        },
        "id": "pA5ZDgnXxdPt",
        "outputId": "ae409b1a-3ff5-4ccb-a08e-12748ac64bdb"
      },
      "outputs": [
        {
          "output_type": "stream",
          "name": "stdout",
          "text": [
            "                               Kelebihan  \\\n",
            "0               Fleksibilitas yang besar   \n",
            "1     Kurang membebani penggunaan memori   \n",
            "2  Memprioritaskan operasi daripada data   \n",
            "\n",
            "                                          Kekurangan  \n",
            "0  Tidak dapat melakukan operasi seperti enkapsul...  \n",
            "1   Sulit untuk berhubungan dengan objek dunia nyata  \n",
            "2     Fitur penggunaan kembali kode tidak ada di OOP  \n"
          ]
        }
      ],
      "source": [
        "tabelc= {'Kelebihan' :['Fleksibilitas yang besar', 'Kurang membebani penggunaan memori', 'Memprioritaskan operasi daripada data'],\n",
        "        'Kekurangan' : ['Tidak dapat melakukan operasi seperti enkapsulasi, pewarisan, dll.', 'Sulit untuk berhubungan dengan objek dunia nyata', 'Fitur penggunaan kembali kode tidak ada di OOP']}\n",
        "df = pd.DataFrame(tabelc)\n",
        "print(df)"
      ]
    },
    {
      "cell_type": "markdown",
      "metadata": {
        "id": "ypDNANc_xdPt"
      },
      "source": [
        "Nomor 4\n",
        "Apa yang dimaksud dengan pure functional programming language?"
      ]
    },
    {
      "cell_type": "markdown",
      "metadata": {
        "id": "9g1cRgRoxdPu"
      },
      "source": [
        "Jawab:\n",
        "Pure functional programming language adalah bahasa pemrograman yang dimana fungsinya tidak dapat mengamati hal-hal selain inputnya."
      ]
    },
    {
      "cell_type": "markdown",
      "metadata": {
        "id": "HtLiQR_SxdPu"
      },
      "source": [
        "Nomor 5\n",
        "Dari bahasa pemrograman FP di slide sebelumnya ( slide 14 ) , manakah \n",
        "yang termasuk pure functional programming language?"
      ]
    },
    {
      "cell_type": "markdown",
      "metadata": {
        "id": "w6pPLJ2MxdPv"
      },
      "source": [
        "Jawab:\n",
        "Haskell"
      ]
    },
    {
      "cell_type": "markdown",
      "metadata": {
        "id": "eGhUYRFAxdPv"
      },
      "source": [
        "Nomor 6\n",
        "1. Input password bertipe string dengan batasan panjang password \n",
        "100 karakter\n",
        "2. Setiap karakter dari string tersebut diubah menjadi ASCII value\n",
        "3. Kemudian setiap ASCII value tersebut dikembangkan menjadi 3 \n",
        "value dengan dilakukan operasi berikut:\n",
        "    1. Value pertama dibagi dengan integer 26 kemudian \n",
        "        dibulatkan dan dijumlahkan dengan 80 kemudian diubah \n",
        "        kembali menjadi karakter\n",
        "    2. Value kedua dihitung sisa bagi dengan 26 kemudian \n",
        "        dijumlahkan dengan 80 kemudian diubah kembali menjadi \n",
        "        karakter\n",
        "    3. Value ketiga adalah karakter ‘+’ jika value pertama  lebih \n",
        "    besar dari value kedua, atau value ketiga adalah karakter ‘-’ \n",
        "    jika value pertama tidak lebih besar dari value kedua\n",
        "4. Deretkan value pertama, kedua dan ketiga untuk setiap karakter \n",
        "dalam password dalam bentuk baru"
      ]
    },
    {
      "cell_type": "code",
      "execution_count": 7,
      "metadata": {
        "id": "xoWrMM2TxdPx"
      },
      "outputs": [],
      "source": [
        "def encrypt_password(pwd):\n",
        " if len(pwd) > 100:\n",
        "    return \"ERROR ! Kata terlalu panjang\"\n",
        " \n",
        " encrypted_password = \" \"\n",
        " for char in pwd:\n",
        "    ascii_value = ord(char)\n",
        "    value_pertama = round((ascii_value / 26)) + 80\n",
        "    value_kedua = (ascii_value % 26) + 80\n",
        "    value_ketiga = '+' if value_pertama > value_kedua else '-'\n",
        "    encrypted_password += chr(value_pertama) + chr(value_kedua) + value_ketiga\n",
        "    \n",
        " return encrypted_password"
      ]
    },
    {
      "cell_type": "code",
      "execution_count": 6,
      "metadata": {
        "colab": {
          "base_uri": "https://localhost:8080/"
        },
        "id": "IRqwoWL4xdPx",
        "outputId": "6b0564b9-d1f5-4287-b401-ba77ce6ce0d9"
      },
      "outputs": [
        {
          "output_type": "stream",
          "name": "stdout",
          "text": [
            "T[-Tg-TU-Tg-T[-T\\-Tg-TZ-RP+Ua-TW-TS+Td-TQ+T[-Tc-\n"
          ]
        }
      ],
      "source": [
        "\n",
        "print(encrypt_password(\"semester4yokbisa\"))"
      ]
    }
  ],
  "metadata": {
    "kernelspec": {
      "display_name": "Python 3",
      "language": "python",
      "name": "python3"
    },
    "language_info": {
      "codemirror_mode": {
        "name": "ipython",
        "version": 3
      },
      "file_extension": ".py",
      "mimetype": "text/x-python",
      "name": "python",
      "nbconvert_exporter": "python",
      "pygments_lexer": "ipython3",
      "version": "3.10.4"
    },
    "orig_nbformat": 4,
    "vscode": {
      "interpreter": {
        "hash": "3ad933181bd8a04b432d3370b9dc3b0662ad032c4dfaa4e4f1596c548f763858"
      }
    },
    "colab": {
      "provenance": []
    }
  },
  "nbformat": 4,
  "nbformat_minor": 0
}