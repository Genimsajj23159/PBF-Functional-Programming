{
 "cells": [
  {
   "attachments": {},
   "cell_type": "markdown",
   "metadata": {},
   "source": [
    "Tugas Functonal Programming Meet 1\n",
    "Nama    : Jasmine Georgina Sekartaji\n",
    "NIM     : 121450159\n",
    "Kelas   : RA\n"
   ]
  },
  {
   "attachments": {},
   "cell_type": "markdown",
   "metadata": {},
   "source": [
    "Nomor 1\n",
    "Jelaskan menggunakan tabel mengenai kelebihan dan kekurangan \n",
    "paradigma procedural dibandingkan dengan object oriented (minimal 3) !"
   ]
  },
  {
   "cell_type": "code",
   "execution_count": 2,
   "metadata": {},
   "outputs": [],
   "source": [
    "import pandas as pd"
   ]
  },
  {
   "cell_type": "code",
   "execution_count": 14,
   "metadata": {},
   "outputs": [
    {
     "name": "stdout",
     "output_type": "stream",
     "text": [
      "                                    Kelebihan  \\\n",
      "0                                   Sederhana   \n",
      "1                                     Efisien   \n",
      "2  Efektif dalam mengeksekusi barisan program   \n",
      "\n",
      "                                     Kekurangan  \n",
      "0  Kadang menyulitkan(jauh dari bahasa manusia)  \n",
      "1            Program sulit untuk di maintenance  \n",
      "2      Tidak cocok untuk aplikasi yang kompleks  \n"
     ]
    }
   ],
   "source": [
    "tabela= {'Kelebihan' :['Sederhana', 'Efisien', 'Efektif dalam mengeksekusi barisan program'],\n",
    "        'Kekurangan' : ['Kadang menyulitkan(jauh dari bahasa manusia)', 'Program sulit untuk di maintenance', 'Tidak cocok untuk aplikasi yang kompleks']}\n",
    "df = pd.DataFrame(tabela)\n",
    "print(df)\n",
    "\n"
   ]
  },
  {
   "attachments": {},
   "cell_type": "markdown",
   "metadata": {},
   "source": [
    "Nomor 2\n",
    "Jelaskan menggunakan tabel mengenai kelebihan dan kekurangan \n",
    "paradigma object oriented dibandingkan dengan functional (minimal 3) !"
   ]
  },
  {
   "cell_type": "code",
   "execution_count": 20,
   "metadata": {},
   "outputs": [
    {
     "name": "stdout",
     "output_type": "stream",
     "text": [
      "                                        Kelebihan  \\\n",
      "0  Hanya perlu sekali mendefinisikan senuah class   \n",
      "1   Lebih aman karena dapat melakukan abstraction   \n",
      "2                       Mempunyai akses modifiers   \n",
      "\n",
      "                              Kekurangan  \n",
      "0      Butuh dasar pemrograman yang kuat  \n",
      "1  Sulit dipahami oleh programmer pemula  \n",
      "2    Perlu ruang memori yang lebih besar  \n"
     ]
    }
   ],
   "source": [
    "tabelb= {'Kelebihan' :['Hanya perlu sekali mendefinisikan senuah class', 'Lebih aman karena dapat melakukan abstraction', 'Mempunyai akses modifiers'],\n",
    "        'Kekurangan' : ['Butuh dasar pemrograman yang kuat', 'Sulit dipahami oleh programmer pemula', 'Perlu ruang memori yang lebih besar']}\n",
    "df = pd.DataFrame(tabelb)\n",
    "print(df)"
   ]
  },
  {
   "attachments": {},
   "cell_type": "markdown",
   "metadata": {},
   "source": [
    "Nomor 3\n",
    "Jelaskan menggunakan tabel mengenai kelebihan dan kekurangan \n",
    "paradigma procedural dibandingkan dengan functional (minimal 3) !"
   ]
  },
  {
   "cell_type": "code",
   "execution_count": 21,
   "metadata": {},
   "outputs": [
    {
     "name": "stdout",
     "output_type": "stream",
     "text": [
      "  Kelebihan Kekurangan\n",
      "0       bbb        ccc\n",
      "1       ccc        hhh\n",
      "2       fff        fff\n"
     ]
    }
   ],
   "source": [
    "tabelc= {'Kelebihan' :['bbb', 'ccc', 'fff'],\n",
    "        'Kekurangan' : ['ccc', 'hhh', 'fff']}\n",
    "df = pd.DataFrame(tabelc)\n",
    "print(df)"
   ]
  },
  {
   "attachments": {},
   "cell_type": "markdown",
   "metadata": {},
   "source": [
    "Nomor 4\n",
    "Apa yang dimaksud dengan pure functional programming language?"
   ]
  },
  {
   "attachments": {},
   "cell_type": "markdown",
   "metadata": {},
   "source": [
    "Jawab:\n",
    "Pure functional programming language adalah bahasa pemrograman yang dimana fungsinya tidak dapat mengamati hal-hal selain inputnya."
   ]
  },
  {
   "attachments": {},
   "cell_type": "markdown",
   "metadata": {},
   "source": [
    "Nomor 5\n",
    "Dari bahasa pemrograman FP di slide sebelumnya ( slide 14 ) , manakah \n",
    "yang termasuk pure functional programming language?"
   ]
  },
  {
   "attachments": {},
   "cell_type": "markdown",
   "metadata": {},
   "source": [
    "Jawab:\n",
    "Haskell"
   ]
  },
  {
   "attachments": {},
   "cell_type": "markdown",
   "metadata": {},
   "source": [
    "Nomor 6\n",
    "1. Input password bertipe string dengan batasan panjang password \n",
    "100 karakter\n",
    "2. Setiap karakter dari string tersebut diubah menjadi ASCII value\n",
    "3. Kemudian setiap ASCII value tersebut dikembangkan menjadi 3 \n",
    "value dengan dilakukan operasi berikut:\n",
    "    1. Value pertama dibagi dengan integer 26 kemudian \n",
    "        dibulatkan dan dijumlahkan dengan 80 kemudian diubah \n",
    "        kembali menjadi karakter\n",
    "    2. Value kedua dihitung sisa bagi dengan 26 kemudian \n",
    "        dijumlahkan dengan 80 kemudian diubah kembali menjadi \n",
    "        karakter\n",
    "    3. Value ketiga adalah karakter ‘+’ jika value pertama  lebih \n",
    "    besar dari value kedua, atau value ketiga adalah karakter ‘-’ \n",
    "    jika value pertama tidak lebih besar dari value kedua\n",
    "4. Deretkan value pertama, kedua dan ketiga untuk setiap karakter \n",
    "dalam password dalam bentuk baru"
   ]
  },
  {
   "cell_type": "code",
   "execution_count": null,
   "metadata": {},
   "outputs": [],
   "source": []
  }
 ],
 "metadata": {
  "kernelspec": {
   "display_name": "Python 3",
   "language": "python",
   "name": "python3"
  },
  "language_info": {
   "codemirror_mode": {
    "name": "ipython",
    "version": 3
   },
   "file_extension": ".py",
   "mimetype": "text/x-python",
   "name": "python",
   "nbconvert_exporter": "python",
   "pygments_lexer": "ipython3",
   "version": "3.10.4"
  },
  "orig_nbformat": 4,
  "vscode": {
   "interpreter": {
    "hash": "3ad933181bd8a04b432d3370b9dc3b0662ad032c4dfaa4e4f1596c548f763858"
   }
  }
 },
 "nbformat": 4,
 "nbformat_minor": 2
}
